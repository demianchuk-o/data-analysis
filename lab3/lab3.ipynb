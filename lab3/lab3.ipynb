{
 "cells": [
  {
   "cell_type": "markdown",
   "source": [
    "# Практична робота 3 Описова статистика\n",
    "### Мета роботи: ознайомитись з методикою первинної обробки статистичних даних; проаналізувати вплив способу представлення даних на їх інформативність."
   ],
   "metadata": {
    "collapsed": false
   }
  },
  {
   "cell_type": "markdown",
   "source": [
    "## Основне завдання"
   ],
   "metadata": {
    "collapsed": false
   }
  },
  {
   "cell_type": "markdown",
   "source": [
    "### 1. Записати дані у data frame"
   ],
   "metadata": {
    "collapsed": false
   }
  },
  {
   "cell_type": "code",
   "execution_count": 511,
   "outputs": [],
   "source": [
    "import pandas as pd\n",
    "import matplotlib.pyplot as plt\n",
    "\n",
    "df = pd.read_csv('Data2.csv', delimiter=';', decimal=',', encoding='cp1252')"
   ],
   "metadata": {
    "collapsed": false
   }
  },
  {
   "cell_type": "markdown",
   "source": [
    "### 2. Дослідити структуру даних"
   ],
   "metadata": {
    "collapsed": false
   }
  },
  {
   "cell_type": "code",
   "execution_count": 512,
   "outputs": [
    {
     "name": "stdout",
     "output_type": "stream",
     "text": [
      "<class 'pandas.core.frame.DataFrame'>\n",
      "RangeIndex: 217 entries, 0 to 216\n",
      "Data columns (total 6 columns):\n",
      " #   Column          Non-Null Count  Dtype  \n",
      "---  ------          --------------  -----  \n",
      " 0   Country Name    217 non-null    object \n",
      " 1   Region          217 non-null    object \n",
      " 2   GDP per capita  190 non-null    float64\n",
      " 3   Populatiion     216 non-null    float64\n",
      " 4   CO2 emission    205 non-null    float64\n",
      " 5   Area            217 non-null    float64\n",
      "dtypes: float64(4), object(2)\n",
      "memory usage: 10.3+ KB\n"
     ]
    }
   ],
   "source": [
    "df.info()"
   ],
   "metadata": {
    "collapsed": false
   }
  },
  {
   "cell_type": "markdown",
   "source": [
    "Бачимо, що дані мають структуру з 6 колонок, кількість ненульових значень у кожній; бачимо типи даних цих колонок і кількість використаної пам'яті."
   ],
   "metadata": {
    "collapsed": false
   }
  },
  {
   "cell_type": "markdown",
   "source": [
    "### 3. Виправити помилки в даних"
   ],
   "metadata": {
    "collapsed": false
   }
  },
  {
   "cell_type": "markdown",
   "source": [
    "Перша помітна помилка - назва колонки 'Populatiion'. Перейменуємо її на правильне написання."
   ],
   "metadata": {
    "collapsed": false
   }
  },
  {
   "cell_type": "code",
   "execution_count": 513,
   "outputs": [
    {
     "name": "stdout",
     "output_type": "stream",
     "text": [
      "<class 'pandas.core.frame.DataFrame'>\n",
      "RangeIndex: 217 entries, 0 to 216\n",
      "Data columns (total 6 columns):\n",
      " #   Column          Non-Null Count  Dtype  \n",
      "---  ------          --------------  -----  \n",
      " 0   Country Name    217 non-null    object \n",
      " 1   Region          217 non-null    object \n",
      " 2   GDP per capita  190 non-null    float64\n",
      " 3   Population      216 non-null    float64\n",
      " 4   CO2 emission    205 non-null    float64\n",
      " 5   Area            217 non-null    float64\n",
      "dtypes: float64(4), object(2)\n",
      "memory usage: 10.3+ KB\n"
     ]
    }
   ],
   "source": [
    "df = df.rename(columns={'Populatiion': 'Population'})\n",
    "df.info()"
   ],
   "metadata": {
    "collapsed": false
   }
  },
  {
   "cell_type": "markdown",
   "source": [
    "Далі - перевіримо коректність числових даних. Переглянемо, чи є від'ємні значення серед числових колонок датафрейму."
   ],
   "metadata": {
    "collapsed": false
   }
  },
  {
   "cell_type": "code",
   "execution_count": 514,
   "outputs": [
    {
     "name": "stdout",
     "output_type": "stream",
     "text": [
      "           Country Name                     Region  GDP per capita  \\\n",
      "56   Dominican Republic  Latin America & Caribbean    -6722.223536   \n",
      "135             Myanmar        East Asia & Pacific     1195.515372   \n",
      "\n",
      "     Population  CO2 emission      Area  \n",
      "56   10648791.0     21539.958   48670.0  \n",
      "135  52885223.0     21631.633 -676590.0  \n"
     ]
    }
   ],
   "source": [
    "incorrect_data = (df.select_dtypes('float64') < 0).any(axis=1)\n",
    "print(df[incorrect_data])"
   ],
   "metadata": {
    "collapsed": false
   }
  },
  {
   "cell_type": "markdown",
   "source": [
    "Бачимо, що від'ємні значення знаходяться в колонці 'GDP per capita' та в колонці 'Area'. Виправимо дані у цих колонках, замінивши значення у них на значення по модулю:"
   ],
   "metadata": {
    "collapsed": false
   }
  },
  {
   "cell_type": "code",
   "execution_count": 515,
   "outputs": [],
   "source": [
    "df['GDP per capita'] = df['GDP per capita'].abs()\n",
    "df.Area = df.Area.abs()"
   ],
   "metadata": {
    "collapsed": false
   }
  },
  {
   "cell_type": "markdown",
   "source": [
    "Тепер знову поглянемо, чи є рядки з від'ємними даними в таблиці:"
   ],
   "metadata": {
    "collapsed": false
   }
  },
  {
   "cell_type": "code",
   "execution_count": 536,
   "outputs": [
    {
     "name": "stdout",
     "output_type": "stream",
     "text": [
      "Empty DataFrame\n",
      "Columns: [Country Name, Region, GDP per capita, Population, CO2 emission, Area, Population density, Total GDP, CO2 per capita]\n",
      "Index: []\n"
     ]
    }
   ],
   "source": [
    "incorrect_data = (df.select_dtypes('float64') < 0).any(axis=1)\n",
    "print(df[incorrect_data])"
   ],
   "metadata": {
    "collapsed": false
   }
  },
  {
   "cell_type": "markdown",
   "source": [
    "Тепер відповімо на питання 1 Додаткового завдання. Переглянемо, чи містить кожна з числових колонок пропущенні значення."
   ],
   "metadata": {
    "collapsed": false
   }
  },
  {
   "cell_type": "code",
   "execution_count": 534,
   "outputs": [
    {
     "data": {
      "text/plain": "Country Name          False\nRegion                False\nGDP per capita        False\nPopulation            False\nCO2 emission          False\nArea                  False\nPopulation density    False\nTotal GDP             False\nCO2 per capita        False\ndtype: bool"
     },
     "execution_count": 534,
     "metadata": {},
     "output_type": "execute_result"
    }
   ],
   "source": [
    "df.isna().any()"
   ],
   "metadata": {
    "collapsed": false
   }
  },
  {
   "cell_type": "markdown",
   "source": [
    "Як бачимо з колонки 'Non-Null Count', у колонках 2-5 містяться порожні значення. В такому випадку замінимо їх середніми значеннями."
   ],
   "metadata": {
    "collapsed": false
   }
  },
  {
   "cell_type": "code",
   "execution_count": 533,
   "outputs": [
    {
     "data": {
      "text/plain": "Country Name          False\nRegion                False\nGDP per capita        False\nPopulation            False\nCO2 emission          False\nArea                  False\nPopulation density    False\nTotal GDP             False\nCO2 per capita        False\ndtype: bool"
     },
     "execution_count": 533,
     "metadata": {},
     "output_type": "execute_result"
    }
   ],
   "source": [
    "df.fillna(df.mean(numeric_only=True), inplace=True)\n",
    "df.isna().any()"
   ],
   "metadata": {
    "collapsed": false
   }
  },
  {
   "cell_type": "markdown",
   "source": [
    "Тепер усі дані в датафреймі є коректними."
   ],
   "metadata": {
    "collapsed": false
   }
  },
  {
   "cell_type": "markdown",
   "source": [
    "### 4. Побудувати діаграми розмаху та гістограми"
   ],
   "metadata": {
    "collapsed": false
   }
  },
  {
   "cell_type": "markdown",
   "source": [
    "Побудуємо діаграму розмаху для усіх числових колонок."
   ],
   "metadata": {
    "collapsed": false
   }
  },
  {
   "cell_type": "code",
   "execution_count": 519,
   "outputs": [
    {
     "data": {
      "text/plain": "<Figure size 640x480 with 1 Axes>",
      "image/png": "[encoded data removed]"
     },
     "metadata": {},
     "output_type": "display_data"
    }
   ],
   "source": [
    "df.boxplot()\n",
    "plt.show()"
   ],
   "metadata": {
    "collapsed": false
   }
  },
  {
   "cell_type": "markdown",
   "source": [
    "Побудуємо також окрему діаграму розмаху для колонки 'Population'."
   ],
   "metadata": {
    "collapsed": false
   }
  },
  {
   "cell_type": "code",
   "execution_count": 520,
   "outputs": [
    {
     "data": {
      "text/plain": "<Figure size 640x480 with 1 Axes>",
      "image/png": "[encoded data removed]"
     },
     "metadata": {},
     "output_type": "display_data"
    }
   ],
   "source": [
    "plt.boxplot(df.Population)\n",
    "plt.title('Population')\n",
    "plt.ylabel('Value')\n",
    "plt.show()"
   ],
   "metadata": {
    "collapsed": false
   }
  },
  {
   "cell_type": "markdown",
   "source": [
    "Побудуємо гістограми для усіх числових колонок."
   ],
   "metadata": {
    "collapsed": false
   }
  },
  {
   "cell_type": "code",
   "execution_count": 521,
   "outputs": [
    {
     "data": {
      "text/plain": "<Figure size 640x480 with 4 Axes>",
      "image/png": "[encoded data removed]"
     },
     "metadata": {},
     "output_type": "display_data"
    }
   ],
   "source": [
    "df.hist()\n",
    "plt.show()"
   ],
   "metadata": {
    "collapsed": false
   }
  },
  {
   "cell_type": "markdown",
   "source": [
    "І побудуємо окрему гістограму для колонки 'GDP per capita'"
   ],
   "metadata": {
    "collapsed": false
   }
  },
  {
   "cell_type": "code",
   "execution_count": 522,
   "outputs": [
    {
     "data": {
      "text/plain": "<Figure size 640x480 with 1 Axes>",
      "image/png": "[encoded data removed]"
     },
     "metadata": {},
     "output_type": "display_data"
    }
   ],
   "source": [
    "df['GDP per capita'].hist()\n",
    "plt.title('GDP per capita')\n",
    "plt.show()"
   ],
   "metadata": {
    "collapsed": false
   }
  },
  {
   "cell_type": "markdown",
   "source": [
    "### 5. Додати стовпчик із щільністю населення"
   ],
   "metadata": {
    "collapsed": false
   }
  },
  {
   "cell_type": "markdown",
   "source": [
    "Створимо нову колонку під назвою 'Population density' та виведемо для наочності необхідні колонки."
   ],
   "metadata": {
    "collapsed": false
   }
  },
  {
   "cell_type": "code",
   "execution_count": 523,
   "outputs": [
    {
     "data": {
      "text/plain": "     Country Name  Population       Area  Population density\n0     Afghanistan  34656032.0   652860.0           53.083405\n1         Albania   2876101.0    28750.0          100.038296\n2         Algeria  40606052.0  2381740.0           17.048902\n3  American Samoa     55599.0      200.0          277.995000\n4         Andorra     77281.0      470.0          164.427660",
      "text/html": "<div>\n<style scoped>\n    .dataframe tbody tr th:only-of-type {\n        vertical-align: middle;\n    }\n\n    .dataframe tbody tr th {\n        vertical-align: top;\n    }\n\n    .dataframe thead th {\n        text-align: right;\n    }\n</style>\n<table border=\"1\" class=\"dataframe\">\n  <thead>\n    <tr style=\"text-align: right;\">\n      <th></th>\n      <th>Country Name</th>\n      <th>Population</th>\n      <th>Area</th>\n      <th>Population density</th>\n    </tr>\n  </thead>\n  <tbody>\n    <tr>\n      <th>0</th>\n      <td>Afghanistan</td>\n      <td>34656032.0</td>\n      <td>652860.0</td>\n      <td>53.083405</td>\n    </tr>\n    <tr>\n      <th>1</th>\n      <td>Albania</td>\n      <td>2876101.0</td>\n      <td>28750.0</td>\n      <td>100.038296</td>\n    </tr>\n    <tr>\n      <th>2</th>\n      <td>Algeria</td>\n      <td>40606052.0</td>\n      <td>2381740.0</td>\n      <td>17.048902</td>\n    </tr>\n    <tr>\n      <th>3</th>\n      <td>American Samoa</td>\n      <td>55599.0</td>\n      <td>200.0</td>\n      <td>277.995000</td>\n    </tr>\n    <tr>\n      <th>4</th>\n      <td>Andorra</td>\n      <td>77281.0</td>\n      <td>470.0</td>\n      <td>164.427660</td>\n    </tr>\n  </tbody>\n</table>\n</div>"
     },
     "execution_count": 523,
     "metadata": {},
     "output_type": "execute_result"
    }
   ],
   "source": [
    "df['Population density'] = df.Population / df.Area\n",
    "df[['Country Name', 'Population', 'Area', 'Population density']].head()"
   ],
   "metadata": {
    "collapsed": false
   }
  },
  {
   "cell_type": "markdown",
   "source": [
    "## Додаткове завдання"
   ],
   "metadata": {
    "collapsed": false
   }
  },
  {
   "cell_type": "markdown",
   "source": [
    "### 1. Чи є пропущені значення? Якщо є, замінити середніми"
   ],
   "metadata": {
    "collapsed": false
   }
  },
  {
   "cell_type": "markdown",
   "source": [
    "Завдання виконано у пункті 2 Основного завдання."
   ],
   "metadata": {
    "collapsed": false
   }
  },
  {
   "cell_type": "markdown",
   "source": [
    "### 2. Яка країна має найбільший ВВП на людину (GDP per capita)? Яка має найменшу площу?"
   ],
   "metadata": {
    "collapsed": false
   }
  },
  {
   "cell_type": "code",
   "execution_count": 524,
   "outputs": [
    {
     "name": "stdout",
     "output_type": "stream",
     "text": [
      "Luxembourg - країна з найбільшим ВВП на людину:\n",
      "Monaco - країна з найменшою площею\n"
     ]
    }
   ],
   "source": [
    "max_gdp_idx = df['GDP per capita'].idxmax()\n",
    "print(f\"{df.loc[max_gdp_idx, 'Country Name']} - країна з найбільшим ВВП на людину:\")\n",
    "\n",
    "min_area_idx = df.Area.idxmin()\n",
    "print(f\"{df.loc[min_area_idx, 'Country Name']} - країна з найменшою площею\")"
   ],
   "metadata": {
    "collapsed": false
   }
  },
  {
   "cell_type": "markdown",
   "source": [
    "### 3. В якому регіоні середня площа країни найбільша?"
   ],
   "metadata": {
    "collapsed": false
   }
  },
  {
   "cell_type": "code",
   "execution_count": 525,
   "outputs": [
    {
     "name": "stdout",
     "output_type": "stream",
     "text": [
      "North America - регіон з найбільшою середньою площею\n"
     ]
    }
   ],
   "source": [
    "reg_avg_area = df.groupby('Region').Area.mean()\n",
    "max_area_idx = reg_avg_area.idxmax()\n",
    "print(f\"{max_area_idx} - регіон з найбільшою середньою площею\")"
   ],
   "metadata": {
    "collapsed": false
   }
  },
  {
   "cell_type": "markdown",
   "source": [
    "### 4. Знайдіть країну з найбільшою щільністю населення у світі? У Європі та центральній Азії?"
   ],
   "metadata": {
    "collapsed": false
   }
  },
  {
   "cell_type": "code",
   "execution_count": 526,
   "outputs": [
    {
     "name": "stdout",
     "output_type": "stream",
     "text": [
      "Macao SAR, China - країна з найбільшою щільністю населення в світі\n",
      "Monaco - країна з найбільшою щільністю населення в Європі та Центральній Азії\n"
     ]
    }
   ],
   "source": [
    "max_pd_world = df['Population density'].idxmax()\n",
    "print(f\"{df.loc[max_pd_world, 'Country Name']} - країна з найбільшою щільністю населення в світі\")\n",
    "\n",
    "max_pd_eu_ca = df[df.Region == 'Europe & Central Asia']['Population density'].idxmax()\n",
    "print(f\"{df.loc[max_pd_eu_ca, 'Country Name']} - країна з найбільшою щільністю населення в Європі та Центральній Азії\")"
   ],
   "metadata": {
    "collapsed": false
   }
  },
  {
   "cell_type": "markdown",
   "source": [
    "### 5. Чи співпадає в якомусь регіоні середнє та медіана ВВП?"
   ],
   "metadata": {
    "collapsed": false
   }
  },
  {
   "cell_type": "markdown",
   "source": [
    "Спочатку обрахуємо колонку 'Total GDP'. Потім обрахуємо різницю між середнім та медіаною ВВП - співпадіння означає, що це значення дорівнює 0."
   ],
   "metadata": {
    "collapsed": false
   }
  },
  {
   "cell_type": "code",
   "execution_count": 527,
   "outputs": [
    {
     "name": "stdout",
     "output_type": "stream",
     "text": [
      "Чи є регіони, де співпадають середнє та медіана ВВП? False\n",
      "Найменша різниця між середнім на медіаною ввп - у Sub-Saharan Africa: 39063596613.28036\n"
     ]
    }
   ],
   "source": [
    "df['Total GDP'] = df['GDP per capita'] * df.Population\n",
    "regs_gdp = df.groupby('Region')['Total GDP']\n",
    "mean_mid_diff = abs(regs_gdp.mean() - regs_gdp.median())\n",
    "print(f\"Чи є регіони, де співпадають середнє та медіана ВВП? {mean_mid_diff.eq(0).any()}\")\n",
    "print(f\"Найменша різниця між середнім на медіаною ввп - у {mean_mid_diff.idxmin()}: {mean_mid_diff.min()}\")"
   ],
   "metadata": {
    "collapsed": false
   }
  },
  {
   "cell_type": "markdown",
   "source": [
    "Як бачимо, нема регіону з такою умовою, і найближче до нуля значення у регіону 'Sub-Saharan Africa'."
   ],
   "metadata": {
    "collapsed": false
   }
  },
  {
   "cell_type": "markdown",
   "source": [
    "### 6. Вивести топ 5 країн та 5 останніх країн по ВВП та кількості СО2 на душу населення."
   ],
   "metadata": {
    "collapsed": false
   }
  },
  {
   "cell_type": "markdown",
   "source": [
    "Для початку додамо колонку для обрахунку значення кількості СО2\n",
    "на душу населення."
   ],
   "metadata": {
    "collapsed": false
   }
  },
  {
   "cell_type": "code",
   "execution_count": 528,
   "outputs": [
    {
     "data": {
      "text/plain": "              Country Name  CO2 per capita\n0              Afghanistan        0.000283\n1                  Albania        0.001988\n2                  Algeria        0.003581\n3           American Samoa        2.969732\n4                  Andorra        0.005979\n..                     ...             ...\n212  Virgin Islands (U.S.)        1.603813\n213     West Bank and Gaza        0.036276\n214            Yemen, Rep.        0.000823\n215                 Zambia        0.000271\n216               Zimbabwe        0.000744\n\n[217 rows x 2 columns]",
      "text/html": "<div>\n<style scoped>\n    .dataframe tbody tr th:only-of-type {\n        vertical-align: middle;\n    }\n\n    .dataframe tbody tr th {\n        vertical-align: top;\n    }\n\n    .dataframe thead th {\n        text-align: right;\n    }\n</style>\n<table border=\"1\" class=\"dataframe\">\n  <thead>\n    <tr style=\"text-align: right;\">\n      <th></th>\n      <th>Country Name</th>\n      <th>CO2 per capita</th>\n    </tr>\n  </thead>\n  <tbody>\n    <tr>\n      <th>0</th>\n      <td>Afghanistan</td>\n      <td>0.000283</td>\n    </tr>\n    <tr>\n      <th>1</th>\n      <td>Albania</td>\n      <td>0.001988</td>\n    </tr>\n    <tr>\n      <th>2</th>\n      <td>Algeria</td>\n      <td>0.003581</td>\n    </tr>\n    <tr>\n      <th>3</th>\n      <td>American Samoa</td>\n      <td>2.969732</td>\n    </tr>\n    <tr>\n      <th>4</th>\n      <td>Andorra</td>\n      <td>0.005979</td>\n    </tr>\n    <tr>\n      <th>...</th>\n      <td>...</td>\n      <td>...</td>\n    </tr>\n    <tr>\n      <th>212</th>\n      <td>Virgin Islands (U.S.)</td>\n      <td>1.603813</td>\n    </tr>\n    <tr>\n      <th>213</th>\n      <td>West Bank and Gaza</td>\n      <td>0.036276</td>\n    </tr>\n    <tr>\n      <th>214</th>\n      <td>Yemen, Rep.</td>\n      <td>0.000823</td>\n    </tr>\n    <tr>\n      <th>215</th>\n      <td>Zambia</td>\n      <td>0.000271</td>\n    </tr>\n    <tr>\n      <th>216</th>\n      <td>Zimbabwe</td>\n      <td>0.000744</td>\n    </tr>\n  </tbody>\n</table>\n<p>217 rows × 2 columns</p>\n</div>"
     },
     "execution_count": 528,
     "metadata": {},
     "output_type": "execute_result"
    }
   ],
   "source": [
    "df['CO2 per capita'] = df['CO2 emission'] / df.Population\n",
    "df[['Country Name', 'CO2 per capita']]"
   ],
   "metadata": {
    "collapsed": false
   }
  },
  {
   "cell_type": "markdown",
   "source": [
    "Тепер знайдемо 5 країн з найбільшим показником ВВП на душу населення."
   ],
   "metadata": {
    "collapsed": false
   }
  },
  {
   "cell_type": "code",
   "execution_count": 529,
   "outputs": [
    {
     "name": "stdout",
     "output_type": "stream",
     "text": [
      "5 країн з найбільшим показником ВВП на душу населення:\n"
     ]
    },
    {
     "data": {
      "text/plain": "         Country Name                 Region  GDP per capita  Population  \\\n115        Luxembourg  Europe & Central Asia    100738.68420    582972.0   \n188       Switzerland  Europe & Central Asia     79887.51824   8372098.0   \n116  Macao SAR, China    East Asia & Pacific     74017.18471    612167.0   \n146            Norway  Europe & Central Asia     70868.12250   5232929.0   \n92            Ireland  Europe & Central Asia     64175.43824   4773095.0   \n\n     CO2 emission      Area  Population density     Total GDP  CO2 per capita  \n115      9658.878    2590.0          225.085714  5.872783e+10        0.016568  \n188     35305.876   41290.0          202.763333  6.688261e+11        0.004217  \n116      1283.450      30.3        20203.531353  4.531088e+10        0.002097  \n146     47626.996  385178.0           13.585742  3.708479e+11        0.009101  \n92      34066.430   70280.0           67.915410  3.063155e+11        0.007137  ",
      "text/html": "<div>\n<style scoped>\n    .dataframe tbody tr th:only-of-type {\n        vertical-align: middle;\n    }\n\n    .dataframe tbody tr th {\n        vertical-align: top;\n    }\n\n    .dataframe thead th {\n        text-align: right;\n    }\n</style>\n<table border=\"1\" class=\"dataframe\">\n  <thead>\n    <tr style=\"text-align: right;\">\n      <th></th>\n      <th>Country Name</th>\n      <th>Region</th>\n      <th>GDP per capita</th>\n      <th>Population</th>\n      <th>CO2 emission</th>\n      <th>Area</th>\n      <th>Population density</th>\n      <th>Total GDP</th>\n      <th>CO2 per capita</th>\n    </tr>\n  </thead>\n  <tbody>\n    <tr>\n      <th>115</th>\n      <td>Luxembourg</td>\n      <td>Europe &amp; Central Asia</td>\n      <td>100738.68420</td>\n      <td>582972.0</td>\n      <td>9658.878</td>\n      <td>2590.0</td>\n      <td>225.085714</td>\n      <td>5.872783e+10</td>\n      <td>0.016568</td>\n    </tr>\n    <tr>\n      <th>188</th>\n      <td>Switzerland</td>\n      <td>Europe &amp; Central Asia</td>\n      <td>79887.51824</td>\n      <td>8372098.0</td>\n      <td>35305.876</td>\n      <td>41290.0</td>\n      <td>202.763333</td>\n      <td>6.688261e+11</td>\n      <td>0.004217</td>\n    </tr>\n    <tr>\n      <th>116</th>\n      <td>Macao SAR, China</td>\n      <td>East Asia &amp; Pacific</td>\n      <td>74017.18471</td>\n      <td>612167.0</td>\n      <td>1283.450</td>\n      <td>30.3</td>\n      <td>20203.531353</td>\n      <td>4.531088e+10</td>\n      <td>0.002097</td>\n    </tr>\n    <tr>\n      <th>146</th>\n      <td>Norway</td>\n      <td>Europe &amp; Central Asia</td>\n      <td>70868.12250</td>\n      <td>5232929.0</td>\n      <td>47626.996</td>\n      <td>385178.0</td>\n      <td>13.585742</td>\n      <td>3.708479e+11</td>\n      <td>0.009101</td>\n    </tr>\n    <tr>\n      <th>92</th>\n      <td>Ireland</td>\n      <td>Europe &amp; Central Asia</td>\n      <td>64175.43824</td>\n      <td>4773095.0</td>\n      <td>34066.430</td>\n      <td>70280.0</td>\n      <td>67.915410</td>\n      <td>3.063155e+11</td>\n      <td>0.007137</td>\n    </tr>\n  </tbody>\n</table>\n</div>"
     },
     "execution_count": 529,
     "metadata": {},
     "output_type": "execute_result"
    }
   ],
   "source": [
    "print('5 країн з найбільшим показником ВВП на душу населення:')\n",
    "df.nlargest(5, 'GDP per capita')"
   ],
   "metadata": {
    "collapsed": false
   }
  },
  {
   "cell_type": "markdown",
   "source": [
    "Знайдемо 5 країн з найменшим показником ВВП на душу населення."
   ],
   "metadata": {
    "collapsed": false
   }
  },
  {
   "cell_type": "code",
   "execution_count": 530,
   "outputs": [
    {
     "name": "stdout",
     "output_type": "stream",
     "text": [
      "5 країн з найбільшим показником ВВП на душу населення:\n"
     ]
    },
    {
     "data": {
      "text/plain": "         Country Name                 Region  GDP per capita  Population  \\\n115        Luxembourg  Europe & Central Asia    100738.68420    582972.0   \n188       Switzerland  Europe & Central Asia     79887.51824   8372098.0   \n116  Macao SAR, China    East Asia & Pacific     74017.18471    612167.0   \n146            Norway  Europe & Central Asia     70868.12250   5232929.0   \n92            Ireland  Europe & Central Asia     64175.43824   4773095.0   \n\n     CO2 emission      Area  Population density     Total GDP  CO2 per capita  \n115      9658.878    2590.0          225.085714  5.872783e+10        0.016568  \n188     35305.876   41290.0          202.763333  6.688261e+11        0.004217  \n116      1283.450      30.3        20203.531353  4.531088e+10        0.002097  \n146     47626.996  385178.0           13.585742  3.708479e+11        0.009101  \n92      34066.430   70280.0           67.915410  3.063155e+11        0.007137  ",
      "text/html": "<div>\n<style scoped>\n    .dataframe tbody tr th:only-of-type {\n        vertical-align: middle;\n    }\n\n    .dataframe tbody tr th {\n        vertical-align: top;\n    }\n\n    .dataframe thead th {\n        text-align: right;\n    }\n</style>\n<table border=\"1\" class=\"dataframe\">\n  <thead>\n    <tr style=\"text-align: right;\">\n      <th></th>\n      <th>Country Name</th>\n      <th>Region</th>\n      <th>GDP per capita</th>\n      <th>Population</th>\n      <th>CO2 emission</th>\n      <th>Area</th>\n      <th>Population density</th>\n      <th>Total GDP</th>\n      <th>CO2 per capita</th>\n    </tr>\n  </thead>\n  <tbody>\n    <tr>\n      <th>115</th>\n      <td>Luxembourg</td>\n      <td>Europe &amp; Central Asia</td>\n      <td>100738.68420</td>\n      <td>582972.0</td>\n      <td>9658.878</td>\n      <td>2590.0</td>\n      <td>225.085714</td>\n      <td>5.872783e+10</td>\n      <td>0.016568</td>\n    </tr>\n    <tr>\n      <th>188</th>\n      <td>Switzerland</td>\n      <td>Europe &amp; Central Asia</td>\n      <td>79887.51824</td>\n      <td>8372098.0</td>\n      <td>35305.876</td>\n      <td>41290.0</td>\n      <td>202.763333</td>\n      <td>6.688261e+11</td>\n      <td>0.004217</td>\n    </tr>\n    <tr>\n      <th>116</th>\n      <td>Macao SAR, China</td>\n      <td>East Asia &amp; Pacific</td>\n      <td>74017.18471</td>\n      <td>612167.0</td>\n      <td>1283.450</td>\n      <td>30.3</td>\n      <td>20203.531353</td>\n      <td>4.531088e+10</td>\n      <td>0.002097</td>\n    </tr>\n    <tr>\n      <th>146</th>\n      <td>Norway</td>\n      <td>Europe &amp; Central Asia</td>\n      <td>70868.12250</td>\n      <td>5232929.0</td>\n      <td>47626.996</td>\n      <td>385178.0</td>\n      <td>13.585742</td>\n      <td>3.708479e+11</td>\n      <td>0.009101</td>\n    </tr>\n    <tr>\n      <th>92</th>\n      <td>Ireland</td>\n      <td>Europe &amp; Central Asia</td>\n      <td>64175.43824</td>\n      <td>4773095.0</td>\n      <td>34066.430</td>\n      <td>70280.0</td>\n      <td>67.915410</td>\n      <td>3.063155e+11</td>\n      <td>0.007137</td>\n    </tr>\n  </tbody>\n</table>\n</div>"
     },
     "execution_count": 530,
     "metadata": {},
     "output_type": "execute_result"
    }
   ],
   "source": [
    "print('5 країн з найбільшим показником ВВП на душу населення:')\n",
    "df.nlargest(5, 'GDP per capita')"
   ],
   "metadata": {
    "collapsed": false
   }
  },
  {
   "cell_type": "markdown",
   "source": [
    "Тепер знайдемо 5 країн з найбільшим показником CO2 на душу населення."
   ],
   "metadata": {
    "collapsed": false
   }
  },
  {
   "cell_type": "code",
   "execution_count": 531,
   "outputs": [
    {
     "name": "stdout",
     "output_type": "stream",
     "text": [
      "5 країн з найбільшим показником CO2 на душу населення:\n"
     ]
    },
    {
     "data": {
      "text/plain": "                 Country Name                     Region  GDP per capita  \\\n182  St. Martin (French part)  Latin America & Caribbean    13445.593416   \n163                San Marino      Europe & Central Asia    47908.561410   \n130                    Monaco      Europe & Central Asia    13445.593416   \n145  Northern Mariana Islands        East Asia & Pacific    22572.378820   \n3              American Samoa        East Asia & Pacific    11834.745230   \n\n     Population   CO2 emission   Area  Population density     Total GDP  \\\n182     31949.0  165114.116337   54.4          587.297794  4.295733e+08   \n163     33203.0  165114.116337   60.0          553.383333  1.590708e+09   \n130     38499.0  165114.116337    2.0        19249.500000  5.176419e+08   \n145     55023.0  165114.116337  460.0          119.615217  1.242000e+09   \n3       55599.0  165114.116337  200.0          277.995000  6.580000e+08   \n\n     CO2 per capita  \n182        5.168053  \n163        4.972867  \n130        4.288790  \n145        3.000820  \n3          2.969732  ",
      "text/html": "<div>\n<style scoped>\n    .dataframe tbody tr th:only-of-type {\n        vertical-align: middle;\n    }\n\n    .dataframe tbody tr th {\n        vertical-align: top;\n    }\n\n    .dataframe thead th {\n        text-align: right;\n    }\n</style>\n<table border=\"1\" class=\"dataframe\">\n  <thead>\n    <tr style=\"text-align: right;\">\n      <th></th>\n      <th>Country Name</th>\n      <th>Region</th>\n      <th>GDP per capita</th>\n      <th>Population</th>\n      <th>CO2 emission</th>\n      <th>Area</th>\n      <th>Population density</th>\n      <th>Total GDP</th>\n      <th>CO2 per capita</th>\n    </tr>\n  </thead>\n  <tbody>\n    <tr>\n      <th>182</th>\n      <td>St. Martin (French part)</td>\n      <td>Latin America &amp; Caribbean</td>\n      <td>13445.593416</td>\n      <td>31949.0</td>\n      <td>165114.116337</td>\n      <td>54.4</td>\n      <td>587.297794</td>\n      <td>4.295733e+08</td>\n      <td>5.168053</td>\n    </tr>\n    <tr>\n      <th>163</th>\n      <td>San Marino</td>\n      <td>Europe &amp; Central Asia</td>\n      <td>47908.561410</td>\n      <td>33203.0</td>\n      <td>165114.116337</td>\n      <td>60.0</td>\n      <td>553.383333</td>\n      <td>1.590708e+09</td>\n      <td>4.972867</td>\n    </tr>\n    <tr>\n      <th>130</th>\n      <td>Monaco</td>\n      <td>Europe &amp; Central Asia</td>\n      <td>13445.593416</td>\n      <td>38499.0</td>\n      <td>165114.116337</td>\n      <td>2.0</td>\n      <td>19249.500000</td>\n      <td>5.176419e+08</td>\n      <td>4.288790</td>\n    </tr>\n    <tr>\n      <th>145</th>\n      <td>Northern Mariana Islands</td>\n      <td>East Asia &amp; Pacific</td>\n      <td>22572.378820</td>\n      <td>55023.0</td>\n      <td>165114.116337</td>\n      <td>460.0</td>\n      <td>119.615217</td>\n      <td>1.242000e+09</td>\n      <td>3.000820</td>\n    </tr>\n    <tr>\n      <th>3</th>\n      <td>American Samoa</td>\n      <td>East Asia &amp; Pacific</td>\n      <td>11834.745230</td>\n      <td>55599.0</td>\n      <td>165114.116337</td>\n      <td>200.0</td>\n      <td>277.995000</td>\n      <td>6.580000e+08</td>\n      <td>2.969732</td>\n    </tr>\n  </tbody>\n</table>\n</div>"
     },
     "execution_count": 531,
     "metadata": {},
     "output_type": "execute_result"
    }
   ],
   "source": [
    "print('5 країн з найбільшим показником CO2 на душу населення:')\n",
    "df.nlargest(5, 'CO2 per capita')"
   ],
   "metadata": {
    "collapsed": false
   }
  },
  {
   "cell_type": "markdown",
   "source": [
    "І також 5 країн з найменшим показником CO2 на душу населення."
   ],
   "metadata": {
    "collapsed": false
   }
  },
  {
   "cell_type": "code",
   "execution_count": 532,
   "outputs": [
    {
     "name": "stdout",
     "output_type": "stream",
     "text": [
      "5 країн з найменшим показником CO2 на душу населення:\n"
     ]
    },
    {
     "data": {
      "text/plain": "         Country Name              Region  GDP per capita    Population  \\\n61            Eritrea  Sub-Saharan Africa    13445.593416  3.432256e+07   \n31            Burundi  Sub-Saharan Africa      285.727442  1.052412e+07   \n175           Somalia  Sub-Saharan Africa      434.208810  1.431800e+07   \n38               Chad  Sub-Saharan Africa      664.295652  1.445254e+07   \n44   Congo, Dem. Rep.  Sub-Saharan Africa      405.542501  7.873615e+07   \n\n     CO2 emission       Area  Population density     Total GDP  CO2 per capita  \n61        696.730   117600.0          291.858502  4.614872e+11        0.000020  \n31        440.040    27830.0          378.157276  3.007029e+09        0.000042  \n175       608.722   637660.0           22.453966  6.217000e+09        0.000043  \n38        729.733  1284000.0           11.255875  9.600761e+09        0.000050  \n44       4671.758  2344860.0           33.578189  3.193086e+10        0.000059  ",
      "text/html": "<div>\n<style scoped>\n    .dataframe tbody tr th:only-of-type {\n        vertical-align: middle;\n    }\n\n    .dataframe tbody tr th {\n        vertical-align: top;\n    }\n\n    .dataframe thead th {\n        text-align: right;\n    }\n</style>\n<table border=\"1\" class=\"dataframe\">\n  <thead>\n    <tr style=\"text-align: right;\">\n      <th></th>\n      <th>Country Name</th>\n      <th>Region</th>\n      <th>GDP per capita</th>\n      <th>Population</th>\n      <th>CO2 emission</th>\n      <th>Area</th>\n      <th>Population density</th>\n      <th>Total GDP</th>\n      <th>CO2 per capita</th>\n    </tr>\n  </thead>\n  <tbody>\n    <tr>\n      <th>61</th>\n      <td>Eritrea</td>\n      <td>Sub-Saharan Africa</td>\n      <td>13445.593416</td>\n      <td>3.432256e+07</td>\n      <td>696.730</td>\n      <td>117600.0</td>\n      <td>291.858502</td>\n      <td>4.614872e+11</td>\n      <td>0.000020</td>\n    </tr>\n    <tr>\n      <th>31</th>\n      <td>Burundi</td>\n      <td>Sub-Saharan Africa</td>\n      <td>285.727442</td>\n      <td>1.052412e+07</td>\n      <td>440.040</td>\n      <td>27830.0</td>\n      <td>378.157276</td>\n      <td>3.007029e+09</td>\n      <td>0.000042</td>\n    </tr>\n    <tr>\n      <th>175</th>\n      <td>Somalia</td>\n      <td>Sub-Saharan Africa</td>\n      <td>434.208810</td>\n      <td>1.431800e+07</td>\n      <td>608.722</td>\n      <td>637660.0</td>\n      <td>22.453966</td>\n      <td>6.217000e+09</td>\n      <td>0.000043</td>\n    </tr>\n    <tr>\n      <th>38</th>\n      <td>Chad</td>\n      <td>Sub-Saharan Africa</td>\n      <td>664.295652</td>\n      <td>1.445254e+07</td>\n      <td>729.733</td>\n      <td>1284000.0</td>\n      <td>11.255875</td>\n      <td>9.600761e+09</td>\n      <td>0.000050</td>\n    </tr>\n    <tr>\n      <th>44</th>\n      <td>Congo, Dem. Rep.</td>\n      <td>Sub-Saharan Africa</td>\n      <td>405.542501</td>\n      <td>7.873615e+07</td>\n      <td>4671.758</td>\n      <td>2344860.0</td>\n      <td>33.578189</td>\n      <td>3.193086e+10</td>\n      <td>0.000059</td>\n    </tr>\n  </tbody>\n</table>\n</div>"
     },
     "execution_count": 532,
     "metadata": {},
     "output_type": "execute_result"
    }
   ],
   "source": [
    "print('5 країн з найменшим показником CO2 на душу населення:')\n",
    "df.nsmallest(5, 'CO2 per capita')"
   ],
   "metadata": {
    "collapsed": false
   }
  },
  {
   "cell_type": "markdown",
   "source": [
    "### Висновок\n",
    "В процесі виконання практичної роботи №3 набув умінь з первинної оброки статистичних даних, використовуючи мову програмування Python та бібліотеку pandas. Дані були завантажені з .csv-файлу та поміщені у датафрейм. У датафреймі були виправлені помилки в назві колонки та від'ємні числові дані. Після цього візуалізував дані, побудувавши діаграми розмаху та гістограми для колонок з числовими значеннями. Також додавались колонки з похідними значеннями, і на основі усіх цих даних буув проведений аналіз в процесі виконання пунктів 1-5 Додаткового завдання."
   ],
   "metadata": {
    "collapsed": false
   }
  }
 ],
 "metadata": {
  "kernelspec": {
   "display_name": "Python 3",
   "language": "python",
   "name": "python3"
  },
  "language_info": {
   "codemirror_mode": {
    "name": "ipython",
    "version": 2
   },
   "file_extension": ".py",
   "mimetype": "text/x-python",
   "name": "python",
   "nbconvert_exporter": "python",
   "pygments_lexer": "ipython2",
   "version": "2.7.6"
  }
 },
 "nbformat": 4,
 "nbformat_minor": 0
}
