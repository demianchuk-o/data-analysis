{
 "cells": [
  {
   "cell_type": "markdown",
   "source": [
    "### Практична робота 4 \"Вивідна статистика\"\n",
    "#### ІП-13 Дем'янчук Олександр\n",
    "Мета роботи: ознайомитись з\n",
    "* методами визначення точкових оцінок параметрів розподілу; дослідити, що впливає на якість точкових оцінок;\n",
    "* методикою визначення інтервальних оцінок параметрів розподілу; дослідити, що впливає на якість інтервальних оцінок;\n",
    "* методами перевірки статистичних гіпотез про вигляд закону розподілу; дослідити, що впливає на ширину критичної області.\n"
   ],
   "metadata": {
    "collapsed": false
   }
  },
  {
   "cell_type": "markdown",
   "source": [
    "Основне завдання\n",
    "1. Скачати дані файлу Data2.csv.\n",
    "1. Подивитись, проаналізувати структуру\n",
    "1. Вказати, чи є параметри, що розподілені за нормальним законом\n",
    "1. Перевірити гіпотезу про рівність середнього і медіани для одного з параметрів\n",
    "1. Вказати, в якому регіоні розподіл викидів СО2 найбільш близький до нормального\n",
    "1. Побудувати кругову діаграму населення по регіонам"
   ],
   "metadata": {
    "collapsed": false
   }
  },
  {
   "cell_type": "markdown",
   "source": [
    "### 1. Скачати дані файлу Data2.csv."
   ],
   "metadata": {
    "collapsed": false
   }
  },
  {
   "cell_type": "markdown",
   "source": [
    "Імпортуємо необхідні для роботи бібліотеки:"
   ],
   "metadata": {
    "collapsed": false
   }
  },
  {
   "cell_type": "code",
   "execution_count": 19,
   "outputs": [],
   "source": [
    "import pandas as pd\n",
    "import matplotlib.pyplot as plt\n",
    "import scipy.stats as stats"
   ],
   "metadata": {
    "collapsed": false
   }
  },
  {
   "cell_type": "markdown",
   "source": [
    "Тепер зчитаємо дані з вхідного файлу в датафрейм (з роздільником ';'):"
   ],
   "metadata": {
    "collapsed": false
   }
  },
  {
   "cell_type": "code",
   "execution_count": 20,
   "outputs": [],
   "source": [
    "df = pd.read_csv(\"Data2.csv\", sep=';', encoding='cp1252')"
   ],
   "metadata": {
    "collapsed": false
   }
  },
  {
   "cell_type": "markdown",
   "source": [
    "### 2. Подивитись, проаналізувати структуру"
   ],
   "metadata": {
    "collapsed": false
   }
  },
  {
   "cell_type": "markdown",
   "source": [
    "Дослідимо структуру датафрейму:"
   ],
   "metadata": {
    "collapsed": false
   }
  },
  {
   "cell_type": "code",
   "execution_count": 21,
   "outputs": [
    {
     "name": "stdout",
     "output_type": "stream",
     "text": [
      "<class 'pandas.core.frame.DataFrame'>\n",
      "RangeIndex: 217 entries, 0 to 216\n",
      "Data columns (total 6 columns):\n",
      " #   Column          Non-Null Count  Dtype  \n",
      "---  ------          --------------  -----  \n",
      " 0   Country Name    217 non-null    object \n",
      " 1   Region          217 non-null    object \n",
      " 2   GDP per capita  190 non-null    object \n",
      " 3   Populatiion     216 non-null    float64\n",
      " 4   CO2 emission    205 non-null    object \n",
      " 5   Area            217 non-null    object \n",
      "dtypes: float64(1), object(5)\n",
      "memory usage: 10.3+ KB\n"
     ]
    }
   ],
   "source": [
    "df.info()"
   ],
   "metadata": {
    "collapsed": false
   }
  },
  {
   "cell_type": "markdown",
   "source": [
    "Перша видима помилка - назва колонки 'Populatiion'. Виправимо одруківку:"
   ],
   "metadata": {
    "collapsed": false
   }
  },
  {
   "cell_type": "code",
   "execution_count": 22,
   "outputs": [
    {
     "name": "stdout",
     "output_type": "stream",
     "text": [
      "<class 'pandas.core.frame.DataFrame'>\n",
      "RangeIndex: 217 entries, 0 to 216\n",
      "Data columns (total 6 columns):\n",
      " #   Column          Non-Null Count  Dtype  \n",
      "---  ------          --------------  -----  \n",
      " 0   Country Name    217 non-null    object \n",
      " 1   Region          217 non-null    object \n",
      " 2   GDP per capita  190 non-null    object \n",
      " 3   Population      216 non-null    float64\n",
      " 4   CO2 emission    205 non-null    object \n",
      " 5   Area            217 non-null    object \n",
      "dtypes: float64(1), object(5)\n",
      "memory usage: 10.3+ KB\n"
     ]
    }
   ],
   "source": [
    "df = df.rename(columns={'Populatiion': 'Population'})\n",
    "df.info()"
   ],
   "metadata": {
    "collapsed": false
   }
  },
  {
   "cell_type": "markdown",
   "source": [
    "Бачимо, що колонки 'GDP per capita', 'CO2 emission' та 'Area' не є числовими значеннями. Але для початку переглянемо їх вигляд:"
   ],
   "metadata": {
    "collapsed": false
   }
  },
  {
   "cell_type": "code",
   "execution_count": 23,
   "outputs": [
    {
     "data": {
      "text/plain": "     Country Name                      Region GDP per capita  Population   \n0     Afghanistan                  South Asia    561,7787463  34656032.0  \\\n1         Albania       Europe & Central Asia     4124,98239   2876101.0   \n2         Algeria  Middle East & North Africa    3916,881571  40606052.0   \n3  American Samoa         East Asia & Pacific    11834,74523     55599.0   \n4         Andorra       Europe & Central Asia    36988,62203     77281.0   \n\n  CO2 emission     Area  \n0     9809,225   652860  \n1     5716,853    28750  \n2   145400,217  2381740  \n3          NaN      200  \n4      462,042      470  ",
      "text/html": "<div>\n<style scoped>\n    .dataframe tbody tr th:only-of-type {\n        vertical-align: middle;\n    }\n\n    .dataframe tbody tr th {\n        vertical-align: top;\n    }\n\n    .dataframe thead th {\n        text-align: right;\n    }\n</style>\n<table border=\"1\" class=\"dataframe\">\n  <thead>\n    <tr style=\"text-align: right;\">\n      <th></th>\n      <th>Country Name</th>\n      <th>Region</th>\n      <th>GDP per capita</th>\n      <th>Population</th>\n      <th>CO2 emission</th>\n      <th>Area</th>\n    </tr>\n  </thead>\n  <tbody>\n    <tr>\n      <th>0</th>\n      <td>Afghanistan</td>\n      <td>South Asia</td>\n      <td>561,7787463</td>\n      <td>34656032.0</td>\n      <td>9809,225</td>\n      <td>652860</td>\n    </tr>\n    <tr>\n      <th>1</th>\n      <td>Albania</td>\n      <td>Europe &amp; Central Asia</td>\n      <td>4124,98239</td>\n      <td>2876101.0</td>\n      <td>5716,853</td>\n      <td>28750</td>\n    </tr>\n    <tr>\n      <th>2</th>\n      <td>Algeria</td>\n      <td>Middle East &amp; North Africa</td>\n      <td>3916,881571</td>\n      <td>40606052.0</td>\n      <td>145400,217</td>\n      <td>2381740</td>\n    </tr>\n    <tr>\n      <th>3</th>\n      <td>American Samoa</td>\n      <td>East Asia &amp; Pacific</td>\n      <td>11834,74523</td>\n      <td>55599.0</td>\n      <td>NaN</td>\n      <td>200</td>\n    </tr>\n    <tr>\n      <th>4</th>\n      <td>Andorra</td>\n      <td>Europe &amp; Central Asia</td>\n      <td>36988,62203</td>\n      <td>77281.0</td>\n      <td>462,042</td>\n      <td>470</td>\n    </tr>\n  </tbody>\n</table>\n</div>"
     },
     "execution_count": 23,
     "metadata": {},
     "output_type": "execute_result"
    }
   ],
   "source": [
    "df.head()"
   ],
   "metadata": {
    "collapsed": false
   }
  },
  {
   "cell_type": "markdown",
   "source": [
    "Колонки 'GDP per capita' та 'CO2 emission' записані через кому. Тепер виправимо формат цих колонок і колонки 'Area':"
   ],
   "metadata": {
    "collapsed": false
   }
  },
  {
   "cell_type": "code",
   "execution_count": 24,
   "outputs": [],
   "source": [
    "cols = [ 'GDP per capita', 'CO2 emission', 'Area' ]\n",
    "for col in cols:\n",
    "    df[col] = df[col].str.replace(',', '.').astype(float)"
   ],
   "metadata": {
    "collapsed": false
   }
  },
  {
   "cell_type": "markdown",
   "source": [
    "Знову проглянемо інформацію про файл:"
   ],
   "metadata": {
    "collapsed": false
   }
  },
  {
   "cell_type": "code",
   "execution_count": 25,
   "outputs": [
    {
     "name": "stdout",
     "output_type": "stream",
     "text": [
      "<class 'pandas.core.frame.DataFrame'>\n",
      "RangeIndex: 217 entries, 0 to 216\n",
      "Data columns (total 6 columns):\n",
      " #   Column          Non-Null Count  Dtype  \n",
      "---  ------          --------------  -----  \n",
      " 0   Country Name    217 non-null    object \n",
      " 1   Region          217 non-null    object \n",
      " 2   GDP per capita  190 non-null    float64\n",
      " 3   Population      216 non-null    float64\n",
      " 4   CO2 emission    205 non-null    float64\n",
      " 5   Area            217 non-null    float64\n",
      "dtypes: float64(4), object(2)\n",
      "memory usage: 10.3+ KB\n"
     ]
    }
   ],
   "source": [
    "df.info()"
   ],
   "metadata": {
    "collapsed": false
   }
  },
  {
   "cell_type": "markdown",
   "source": [
    "Також бачимо, що наявні пропущені значення. Замінимо їх на середні:"
   ],
   "metadata": {
    "collapsed": false
   }
  },
  {
   "cell_type": "code",
   "execution_count": 26,
   "outputs": [],
   "source": [
    "df.fillna(df.mean(numeric_only=True), inplace=True)"
   ],
   "metadata": {
    "collapsed": false
   }
  },
  {
   "cell_type": "markdown",
   "source": [
    "І знов переглянемо самі дані:"
   ],
   "metadata": {
    "collapsed": false
   }
  },
  {
   "cell_type": "code",
   "execution_count": 27,
   "outputs": [
    {
     "data": {
      "text/plain": "     Country Name                      Region  GDP per capita  Population   \n0     Afghanistan                  South Asia      561.778746  34656032.0  \\\n1         Albania       Europe & Central Asia     4124.982390   2876101.0   \n2         Algeria  Middle East & North Africa     3916.881571  40606052.0   \n3  American Samoa         East Asia & Pacific    11834.745230     55599.0   \n4         Andorra       Europe & Central Asia    36988.622030     77281.0   \n\n    CO2 emission       Area  \n0    9809.225000   652860.0  \n1    5716.853000    28750.0  \n2  145400.217000  2381740.0  \n3  165114.116337      200.0  \n4     462.042000      470.0  ",
      "text/html": "<div>\n<style scoped>\n    .dataframe tbody tr th:only-of-type {\n        vertical-align: middle;\n    }\n\n    .dataframe tbody tr th {\n        vertical-align: top;\n    }\n\n    .dataframe thead th {\n        text-align: right;\n    }\n</style>\n<table border=\"1\" class=\"dataframe\">\n  <thead>\n    <tr style=\"text-align: right;\">\n      <th></th>\n      <th>Country Name</th>\n      <th>Region</th>\n      <th>GDP per capita</th>\n      <th>Population</th>\n      <th>CO2 emission</th>\n      <th>Area</th>\n    </tr>\n  </thead>\n  <tbody>\n    <tr>\n      <th>0</th>\n      <td>Afghanistan</td>\n      <td>South Asia</td>\n      <td>561.778746</td>\n      <td>34656032.0</td>\n      <td>9809.225000</td>\n      <td>652860.0</td>\n    </tr>\n    <tr>\n      <th>1</th>\n      <td>Albania</td>\n      <td>Europe &amp; Central Asia</td>\n      <td>4124.982390</td>\n      <td>2876101.0</td>\n      <td>5716.853000</td>\n      <td>28750.0</td>\n    </tr>\n    <tr>\n      <th>2</th>\n      <td>Algeria</td>\n      <td>Middle East &amp; North Africa</td>\n      <td>3916.881571</td>\n      <td>40606052.0</td>\n      <td>145400.217000</td>\n      <td>2381740.0</td>\n    </tr>\n    <tr>\n      <th>3</th>\n      <td>American Samoa</td>\n      <td>East Asia &amp; Pacific</td>\n      <td>11834.745230</td>\n      <td>55599.0</td>\n      <td>165114.116337</td>\n      <td>200.0</td>\n    </tr>\n    <tr>\n      <th>4</th>\n      <td>Andorra</td>\n      <td>Europe &amp; Central Asia</td>\n      <td>36988.622030</td>\n      <td>77281.0</td>\n      <td>462.042000</td>\n      <td>470.0</td>\n    </tr>\n  </tbody>\n</table>\n</div>"
     },
     "execution_count": 27,
     "metadata": {},
     "output_type": "execute_result"
    }
   ],
   "source": [
    "df.head()"
   ],
   "metadata": {
    "collapsed": false
   }
  },
  {
   "cell_type": "markdown",
   "source": [
    "Тепер переглянемо статистику числових даних фрейму:"
   ],
   "metadata": {
    "collapsed": false
   }
  },
  {
   "cell_type": "code",
   "execution_count": 28,
   "outputs": [
    {
     "data": {
      "text/plain": "       GDP per capita    Population  CO2 emission          Area\ncount      217.000000  2.170000e+02  2.170000e+02  2.170000e+02\nmean     13374.833168  3.432256e+07  1.651141e+05  6.126082e+05\nstd      16923.316040  1.344477e+08  8.100511e+05  1.829940e+06\nmin      -6722.223536  1.109700e+04  1.100100e+01 -6.765900e+05\n25%       2338.692157  7.956010e+05  1.954511e+03  1.045000e+04\n50%       7179.340661  6.293253e+06  1.156205e+04  9.222500e+04\n75%      14428.140260  2.369592e+07  8.256251e+04  4.474000e+05\nmax     100738.684200  1.378665e+09  1.029193e+07  1.709825e+07",
      "text/html": "<div>\n<style scoped>\n    .dataframe tbody tr th:only-of-type {\n        vertical-align: middle;\n    }\n\n    .dataframe tbody tr th {\n        vertical-align: top;\n    }\n\n    .dataframe thead th {\n        text-align: right;\n    }\n</style>\n<table border=\"1\" class=\"dataframe\">\n  <thead>\n    <tr style=\"text-align: right;\">\n      <th></th>\n      <th>GDP per capita</th>\n      <th>Population</th>\n      <th>CO2 emission</th>\n      <th>Area</th>\n    </tr>\n  </thead>\n  <tbody>\n    <tr>\n      <th>count</th>\n      <td>217.000000</td>\n      <td>2.170000e+02</td>\n      <td>2.170000e+02</td>\n      <td>2.170000e+02</td>\n    </tr>\n    <tr>\n      <th>mean</th>\n      <td>13374.833168</td>\n      <td>3.432256e+07</td>\n      <td>1.651141e+05</td>\n      <td>6.126082e+05</td>\n    </tr>\n    <tr>\n      <th>std</th>\n      <td>16923.316040</td>\n      <td>1.344477e+08</td>\n      <td>8.100511e+05</td>\n      <td>1.829940e+06</td>\n    </tr>\n    <tr>\n      <th>min</th>\n      <td>-6722.223536</td>\n      <td>1.109700e+04</td>\n      <td>1.100100e+01</td>\n      <td>-6.765900e+05</td>\n    </tr>\n    <tr>\n      <th>25%</th>\n      <td>2338.692157</td>\n      <td>7.956010e+05</td>\n      <td>1.954511e+03</td>\n      <td>1.045000e+04</td>\n    </tr>\n    <tr>\n      <th>50%</th>\n      <td>7179.340661</td>\n      <td>6.293253e+06</td>\n      <td>1.156205e+04</td>\n      <td>9.222500e+04</td>\n    </tr>\n    <tr>\n      <th>75%</th>\n      <td>14428.140260</td>\n      <td>2.369592e+07</td>\n      <td>8.256251e+04</td>\n      <td>4.474000e+05</td>\n    </tr>\n    <tr>\n      <th>max</th>\n      <td>100738.684200</td>\n      <td>1.378665e+09</td>\n      <td>1.029193e+07</td>\n      <td>1.709825e+07</td>\n    </tr>\n  </tbody>\n</table>\n</div>"
     },
     "execution_count": 28,
     "metadata": {},
     "output_type": "execute_result"
    }
   ],
   "source": [
    "df.describe()"
   ],
   "metadata": {
    "collapsed": false
   }
  },
  {
   "cell_type": "markdown",
   "source": [
    "Бачимо від'ємні значення у колонках 'GDP per capita' та Area. Замінимо їх на значення за модулем:"
   ],
   "metadata": {
    "collapsed": false
   }
  },
  {
   "cell_type": "code",
   "execution_count": 29,
   "outputs": [
    {
     "data": {
      "text/plain": "       GDP per capita    Population  CO2 emission          Area\ncount      217.000000  2.170000e+02  2.170000e+02  2.170000e+02\nmean     13436.789146  3.432256e+07  1.651141e+05  6.188441e+05\nstd      16873.938339  1.344477e+08  8.100511e+05  1.827830e+06\nmin        285.727442  1.109700e+04  1.100100e+01  2.000000e+00\n25%       2361.160205  7.956010e+05  1.954511e+03  1.088700e+04\n50%       7179.340661  6.293253e+06  1.156205e+04  9.303000e+04\n75%      14428.140260  2.369592e+07  8.256251e+04  4.474200e+05\nmax     100738.684200  1.378665e+09  1.029193e+07  1.709825e+07",
      "text/html": "<div>\n<style scoped>\n    .dataframe tbody tr th:only-of-type {\n        vertical-align: middle;\n    }\n\n    .dataframe tbody tr th {\n        vertical-align: top;\n    }\n\n    .dataframe thead th {\n        text-align: right;\n    }\n</style>\n<table border=\"1\" class=\"dataframe\">\n  <thead>\n    <tr style=\"text-align: right;\">\n      <th></th>\n      <th>GDP per capita</th>\n      <th>Population</th>\n      <th>CO2 emission</th>\n      <th>Area</th>\n    </tr>\n  </thead>\n  <tbody>\n    <tr>\n      <th>count</th>\n      <td>217.000000</td>\n      <td>2.170000e+02</td>\n      <td>2.170000e+02</td>\n      <td>2.170000e+02</td>\n    </tr>\n    <tr>\n      <th>mean</th>\n      <td>13436.789146</td>\n      <td>3.432256e+07</td>\n      <td>1.651141e+05</td>\n      <td>6.188441e+05</td>\n    </tr>\n    <tr>\n      <th>std</th>\n      <td>16873.938339</td>\n      <td>1.344477e+08</td>\n      <td>8.100511e+05</td>\n      <td>1.827830e+06</td>\n    </tr>\n    <tr>\n      <th>min</th>\n      <td>285.727442</td>\n      <td>1.109700e+04</td>\n      <td>1.100100e+01</td>\n      <td>2.000000e+00</td>\n    </tr>\n    <tr>\n      <th>25%</th>\n      <td>2361.160205</td>\n      <td>7.956010e+05</td>\n      <td>1.954511e+03</td>\n      <td>1.088700e+04</td>\n    </tr>\n    <tr>\n      <th>50%</th>\n      <td>7179.340661</td>\n      <td>6.293253e+06</td>\n      <td>1.156205e+04</td>\n      <td>9.303000e+04</td>\n    </tr>\n    <tr>\n      <th>75%</th>\n      <td>14428.140260</td>\n      <td>2.369592e+07</td>\n      <td>8.256251e+04</td>\n      <td>4.474200e+05</td>\n    </tr>\n    <tr>\n      <th>max</th>\n      <td>100738.684200</td>\n      <td>1.378665e+09</td>\n      <td>1.029193e+07</td>\n      <td>1.709825e+07</td>\n    </tr>\n  </tbody>\n</table>\n</div>"
     },
     "execution_count": 29,
     "metadata": {},
     "output_type": "execute_result"
    }
   ],
   "source": [
    "df['GDP per capita'] = df['GDP per capita'].abs()\n",
    "df['Area'] = df['Area'].abs()\n",
    "df.describe()"
   ],
   "metadata": {
    "collapsed": false
   }
  },
  {
   "cell_type": "markdown",
   "source": [
    "### 3. Вказати, чи є параметри, що розподілені за нормальним законом"
   ],
   "metadata": {
    "collapsed": false
   }
  },
  {
   "cell_type": "markdown",
   "source": [
    "Побудуємо гістограми для чисельних показників датафрейму:"
   ],
   "metadata": {
    "collapsed": false
   }
  },
  {
   "cell_type": "code",
   "execution_count": 30,
   "outputs": [
    {
     "data": {
      "text/plain": "<Figure size 640x480 with 4 Axes>",
      "image/png": "[encoded data removed]"
     },
     "metadata": {},
     "output_type": "display_data"
    }
   ],
   "source": [
    "df.hist()\n",
    "plt.show()"
   ],
   "metadata": {
    "collapsed": false
   }
  },
  {
   "cell_type": "markdown",
   "source": [
    "Візуальний аналіз не демонструє нормального розподілу на даних показниках, тому застосуємо критерій Shapiro-Wilk перевірки відповідності нормального розподілу   :"
   ],
   "metadata": {
    "collapsed": false
   }
  },
  {
   "cell_type": "code",
   "execution_count": 31,
   "outputs": [],
   "source": [
    "def is_norm_distributed(dataframe, column, alpha=0.05):\n",
    "    stat, p_value = stats.shapiro(dataframe[column])\n",
    "    print(f'stats: {stat:.3f}, p value: {p_value:.3f}' )\n",
    "    print(\"Is \" + column + \" normally distribured? \", end='')\n",
    "    print(p_value > alpha)"
   ],
   "metadata": {
    "collapsed": false
   }
  },
  {
   "cell_type": "markdown",
   "source": [],
   "metadata": {
    "collapsed": false
   }
  },
  {
   "cell_type": "code",
   "execution_count": 32,
   "outputs": [
    {
     "name": "stdout",
     "output_type": "stream",
     "text": [
      "stats: 0.730, p value: 0.000\n",
      "Is GDP per capita normally distribured? False\n",
      "stats: 0.217, p value: 0.000\n",
      "Is Population normally distribured? False\n",
      "stats: 0.174, p value: 0.000\n",
      "Is CO2 emission normally distribured? False\n",
      "stats: 0.338, p value: 0.000\n",
      "Is Area normally distribured? False\n"
     ]
    }
   ],
   "source": [
    "columns = ['GDP per capita', 'Population', 'CO2 emission', 'Area']\n",
    "\n",
    "for col in columns:\n",
    "    is_norm_distributed(df, col)"
   ],
   "metadata": {
    "collapsed": false
   }
  },
  {
   "cell_type": "markdown",
   "source": [
    "### 4. Перевірити гіпотезу про рівність середнього і медіани для одного з параметрів"
   ],
   "metadata": {
    "collapsed": false
   }
  },
  {
   "cell_type": "code",
   "execution_count": 33,
   "outputs": [
    {
     "name": "stdout",
     "output_type": "stream",
     "text": [
      "p value: 1.0\n",
      "Is mean of 'GDP per capita' equal to its median? True\n"
     ]
    }
   ],
   "source": [
    "p_value = stats.wilcoxon(df['GDP per capita'].mean(), df['GDP per capita'].median())[1]\n",
    "print(f\"p value: {p_value}\")\n",
    "print(f\"Is mean of 'GDP per capita' equal to its median? {p_value > 0.05}\")"
   ],
   "metadata": {
    "collapsed": false
   }
  },
  {
   "cell_type": "markdown",
   "source": [
    "###  5. Вказати, в якому регіоні розподіл викидів СО2 найбільш близький до нормального"
   ],
   "metadata": {
    "collapsed": false
   }
  },
  {
   "cell_type": "code",
   "execution_count": 34,
   "outputs": [
    {
     "name": "stdout",
     "output_type": "stream",
     "text": [
      "region: East Asia & Pacific: p value: 1.0137837834836572e-12\n",
      "region: Europe & Central Asia: p value: 3.7022774711410744e-13\n",
      "region: Latin America & Caribbean: p value: 2.83462864292261e-10\n",
      "region: Middle East & North Africa: p value: 1.0225892765447497e-05\n",
      "region: North America: p value: 0.17751772701740265\n",
      "region: South Asia: p value: 4.837930646317545e-06\n",
      "region: Sub-Saharan Africa: p value: 1.385663315995678e-14\n",
      "North America is the region with CO2 emission distribution closest to normal (p value = 0.17751772701740265)\n"
     ]
    }
   ],
   "source": [
    "max_pval = -1\n",
    "region = None\n",
    "\n",
    "for reg, emis in df.groupby(\"Region\")[\"CO2 emission\"]:\n",
    "    pval = stats.shapiro(emis)[1]\n",
    "    print(f\"region: {reg}: p value: {pval}\")\n",
    "    if max_pval < pval:\n",
    "        max_pval = pval\n",
    "        region = reg\n",
    "\n",
    "print(f\"{region} is the region with CO2 emission distribution closest to normal (p value = {max_pval})\")"
   ],
   "metadata": {
    "collapsed": false
   }
  },
  {
   "cell_type": "markdown",
   "source": [
    "### 6. Побудувати кругову діаграму населення по регіонам"
   ],
   "metadata": {
    "collapsed": false
   }
  },
  {
   "cell_type": "code",
   "execution_count": 35,
   "outputs": [
    {
     "data": {
      "text/plain": "<Figure size 640x480 with 1 Axes>",
      "image/png": "[encoded data removed]"
     },
     "metadata": {},
     "output_type": "display_data"
    }
   ],
   "source": [
    "grpby_pop = df.groupby(\"Region\")[\"Population\"].sum()\n",
    "plt.pie(grpby_pop, labels=grpby_pop.keys(), autopct=\"%1.1f%%\")\n",
    "plt.title(\"Regions by population: piechart\")\n",
    "plt.show()"
   ],
   "metadata": {
    "collapsed": false
   }
  },
  {
   "cell_type": "markdown",
   "source": [
    "### Висновок:\n",
    "Під час виконання практичного завдання №4:\n",
    "* Оцінили, чи є числові параметри виправленого датафрейму нормально розподіленими\n",
    "* Перевірили гіпотезу про рівність середнього і медіани для 'GDP per capita'\n",
    "* Знайшли регіон з найбільш наближеним до нормального розподілу показнику CO2 emission - ним виявилась Північна Америка\n",
    "* Побудували кругову діаграму для розміру населень регіонів Землі."
   ],
   "metadata": {
    "collapsed": false
   }
  },
  {
   "cell_type": "code",
   "execution_count": null,
   "outputs": [],
   "source": [],
   "metadata": {
    "collapsed": false
   }
  }
 ],
 "metadata": {
  "kernelspec": {
   "display_name": "Python 3",
   "language": "python",
   "name": "python3"
  },
  "language_info": {
   "codemirror_mode": {
    "name": "ipython",
    "version": 2
   },
   "file_extension": ".py",
   "mimetype": "text/x-python",
   "name": "python",
   "nbconvert_exporter": "python",
   "pygments_lexer": "ipython2",
   "version": "2.7.6"
  }
 },
 "nbformat": 4,
 "nbformat_minor": 0
}
